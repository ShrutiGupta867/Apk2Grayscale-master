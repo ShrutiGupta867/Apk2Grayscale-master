{
 "cells": [
  {
   "cell_type": "code",
   "execution_count": null,
   "metadata": {},
   "outputs": [],
   "source": [
    "# This code Convert Apk file to Bytes using Hexdump in Linux.\n",
    "\n",
    "import os\n",
    "\n",
    "apk_path=\"/home/ramesh/Apk/Files/\"          # Path where our apk file exit.\n",
    "hex_path=\"/home/ramesh/Apk/Hex/\"            # Path where un-refind bytes file present.\n",
    "byte_path =\"/home/ramesh/Apk/Apk2Bytes/\"    # Path where refind bytes file store.\n",
    "\n",
    "# Function for converting apk2byte.\n",
    "\n",
    "def Apk2Byte(folder_path):\n",
    "    for file1 in os.listdir(folder_path):\n",
    "        filename,file_apk=os.path.splitext(file1)\n",
    "        cmd='python3 -m hexdump '+folder_path+file1+' > '+hex_path+filename+'.bytes'\n",
    "        os.system(cmd)\n",
    "\n",
    "        # To delete Unnecessary data from file\n",
    "        re=open(hex_path+filename+'.bytes','r')\n",
    "        wr=open(byte_path+filename+'.bytes','w')\n",
    "        lines=re.readlines()\n",
    "        result=[]\n",
    "        for x in lines:\n",
    "            x=x.replace(':',\"\")\n",
    "            t=x[1:57]\n",
    "            wr.write(t+\"\\n\")\n",
    "        re.close()\n",
    "\n",
    "\n",
    "Apk2Byte(apk_path)"
   ]
  },
  {
   "cell_type": "code",
   "execution_count": null,
   "metadata": {},
   "outputs": [],
   "source": []
  }
 ],
 "metadata": {
  "kernelspec": {
   "display_name": "Python 3",
   "language": "python",
   "name": "python3"
  },
  "language_info": {
   "codemirror_mode": {
    "name": "ipython",
    "version": 3
   },
   "file_extension": ".py",
   "mimetype": "text/x-python",
   "name": "python",
   "nbconvert_exporter": "python",
   "pygments_lexer": "ipython3",
   "version": "3.7.3"
  }
 },
 "nbformat": 4,
 "nbformat_minor": 2
}
