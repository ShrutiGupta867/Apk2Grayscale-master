{
 "cells": [
  {
   "cell_type": "code",
   "execution_count": 3,
   "metadata": {},
   "outputs": [],
   "source": [
    "# Convert all bytes file present in Bytes folder to png images.\n",
    "\n",
    "import os\n",
    "import numpy as np\n",
    "import array\n",
    "import zlib\n",
    "\n",
    "from math import ceil, sqrt\n",
    "from PIL import Image\n",
    "\n",
    "#### Configuration\n",
    "\n",
    "bytes_dir = 'Bytes'                      # Store Bytes files\n",
    "\n",
    "concat_path = lambda *args: '/'.join(args)"
   ]
  },
  {
   "cell_type": "code",
   "execution_count": 4,
   "metadata": {},
   "outputs": [
    {
     "name": "stdout",
     "output_type": "stream",
     "text": [
      "Image already exists: ./Gray/facebook_512.png\n"
     ]
    }
   ],
   "source": [
    "def findByteFiles():\n",
    "    dataFiles = os.listdir(bytes_dir)\n",
    "    dataFiles = list(filter(lambda x: x.endswith('.bytes'), dataFiles))\n",
    "    return dataFiles\n",
    "\n",
    "\n",
    "def bytes2png(f, width):\n",
    "    file = concat_path(bytes_dir, f)\n",
    "\n",
    "    \"\"\"\n",
    "        Construct image name and return if file already exists\n",
    "    \"\"\"\n",
    "    image_name = concat_path(images_dir, f.split('.')[0] + '_' + str(width) + '.png')\n",
    "    if os.path.isfile(image_name):\n",
    "        print('Image already exists: {}'.format(image_name))\n",
    "        return\n",
    "\n",
    "    b_data = array.array('i')\n",
    "    for line in open(file, 'r+'):\n",
    "        for byte in line.rstrip()[8:].split():\n",
    "            if (byte == '??'): byte = undecodedByte\n",
    "            b_data.append(int(byte, base=16))\n",
    "    \n",
    "\n",
    "    height = ceil(len(b_data) / width)\n",
    "    if len(b_data) < (width * height):\n",
    "        b_data += array.array('i', (0,) * (width*height - len(b_data)))\n",
    "    image_buffer = np.fromiter(b_data, dtype=np.uint8).reshape((height,width))\n",
    "\n",
    "    img = Image.fromarray(image_buffer, 'L')\n",
    "    img.save(image_name)\n",
    "\n",
    "    \n",
    "    \n",
    "# files = findByteFiles()\n",
    "\n",
    "for file in findByteFiles():\n",
    "    images_dir = './Gray'  \n",
    "    bytes2png(file,512)                     # Fixed width: 512 , Change size according to our bytes file"
   ]
  },
  {
   "cell_type": "code",
   "execution_count": null,
   "metadata": {},
   "outputs": [],
   "source": []
  }
 ],
 "metadata": {
  "kernelspec": {
   "display_name": "Python 3",
   "language": "python",
   "name": "python3"
  },
  "language_info": {
   "codemirror_mode": {
    "name": "ipython",
    "version": 3
   },
   "file_extension": ".py",
   "mimetype": "text/x-python",
   "name": "python",
   "nbconvert_exporter": "python",
   "pygments_lexer": "ipython3",
   "version": "3.7.3"
  }
 },
 "nbformat": 4,
 "nbformat_minor": 2
}
